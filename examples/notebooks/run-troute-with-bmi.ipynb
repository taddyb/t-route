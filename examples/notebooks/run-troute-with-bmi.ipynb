{
 "cells": [
  {
   "attachments": {},
   "cell_type": "markdown",
   "metadata": {},
   "source": [
    "# Basic Model Interface (BMI) for streamflow routing using t-route"
   ]
  },
  {
   "attachments": {},
   "cell_type": "markdown",
   "metadata": {},
   "source": [
    "This t-route network was developed for use in the Next Generation National Water Model (Nextgen). Nextgen runs models with Basic Model Interface (BMI)."
   ]
  },
  {
   "cell_type": "code",
   "execution_count": 1,
   "metadata": {},
   "outputs": [],
   "source": [
    "import sys\n",
    "import numpy as np\n",
    "\n",
    "sys.path.append(\"src/\")\n",
    "import bmi_troute # This is the BMI t-route that we will be running from the file: bmi_troute.py"
   ]
  },
  {
   "attachments": {},
   "cell_type": "markdown",
   "metadata": {},
   "source": [
    "Initialize MC only model with configuration file"
   ]
  },
  {
   "cell_type": "code",
   "execution_count": 2,
   "metadata": {},
   "outputs": [],
   "source": [
    "model = bmi_troute.bmi_troute()\n",
    "model.initialize(bmi_cfg_file='test/BMI/test_MC_bmi.yaml')"
   ]
  },
  {
   "attachments": {},
   "cell_type": "markdown",
   "metadata": {},
   "source": [
    "Set static values"
   ]
  },
  {
   "cell_type": "code",
   "execution_count": 3,
   "metadata": {},
   "outputs": [],
   "source": [
    "model.set_value('segment_id', np.array([10236, 10237, 10245]))\n",
    "model.set_value('segment_toid', np.array([10237, 10238, 10236]))\n",
    "model.set_value('dx', np.array([5954.08922648, 5772.19680206, 1807.48910221]))\n",
    "model.set_value('n', np.array([0.06, 0.06, 0.06]))\n",
    "model.set_value('ncc', np.array([0.12, 0.12, 0.12]))\n",
    "model.set_value('s0', np.array([0.00730121, 0.00635386, 0.00443]))\n",
    "model.set_value('bw', np.array([2.63175869, 3.49006681, 2.32079768]))\n",
    "model.set_value('tw', np.array([4.38626441, 5.81677835, 3.86799598]))\n",
    "model.set_value('twcc', np.array([13.15879356, 17.45033484, 11.60398769]))\n",
    "model.set_value('alt', np.array([1.0, 1.0, 1.0]))\n",
    "model.set_value('musk', np.array([3600.0, 3600.0, 3600.0]))\n",
    "model.set_value('musx', np.array([0.2, 0.2, 0.2]))\n",
    "model.set_value('cs', np.array([0.62431187, 0.56729497, 0.64251596]))"
   ]
  },
  {
   "cell_type": "code",
   "execution_count": 4,
   "metadata": {},
   "outputs": [
    {
     "data": {
      "text/plain": [
       "300"
      ]
     },
     "execution_count": 4,
     "metadata": {},
     "output_type": "execute_result"
    }
   ],
   "source": [
    "model.get_time_step()"
   ]
  },
  {
   "cell_type": "code",
   "execution_count": 5,
   "metadata": {},
   "outputs": [
    {
     "data": {
      "text/plain": [
       "array([0., 0., 0.])"
      ]
     },
     "execution_count": 5,
     "metadata": {},
     "output_type": "execute_result"
    }
   ],
   "source": [
    "model.get_value('channel_exit_water_x-section__volume_flow_rate')"
   ]
  },
  {
   "attachments": {},
   "cell_type": "markdown",
   "metadata": {},
   "source": [
    "Set values"
   ]
  },
  {
   "cell_type": "code",
   "execution_count": 6,
   "metadata": {},
   "outputs": [],
   "source": [
    "model.set_value('land_surface_water_source__volume_flow_rate', np.array([1000.0,1000.0,1000.0]))"
   ]
  },
  {
   "cell_type": "code",
   "execution_count": null,
   "metadata": {},
   "outputs": [],
   "source": [
    "model.update()"
   ]
  },
  {
   "cell_type": "code",
   "execution_count": 10,
   "metadata": {},
   "outputs": [
    {
     "data": {
      "text/plain": [
       "10236     7.292922\n",
       "10237     7.033934\n",
       "10245    18.583834\n",
       "Name: (0, q), dtype: float32"
      ]
     },
     "execution_count": 10,
     "metadata": {},
     "output_type": "execute_result"
    }
   ],
   "source": [
    "model.get_value('channel_exit_water_x-section__volume_flow_rate')"
   ]
  },
  {
   "cell_type": "code",
   "execution_count": 11,
   "metadata": {},
   "outputs": [
    {
     "data": {
      "text/plain": [
       "300.0"
      ]
     },
     "execution_count": 11,
     "metadata": {},
     "output_type": "execute_result"
    }
   ],
   "source": [
    "model.get_current_time()"
   ]
  },
  {
   "cell_type": "code",
   "execution_count": 12,
   "metadata": {},
   "outputs": [],
   "source": [
    "model.initialize(bmi_cfg_file='test/BMI/test_MC_bmi.yaml')"
   ]
  },
  {
   "attachments": {},
   "cell_type": "markdown",
   "metadata": {},
   "source": [
    "Set static values"
   ]
  },
  {
   "cell_type": "code",
   "execution_count": 13,
   "metadata": {},
   "outputs": [],
   "source": [
    "model.set_value('segment_id', np.array([10236, 10237, 10245]))\n",
    "model.set_value('segment_toid', np.array([10237, 10238, 10236]))\n",
    "model.set_value('dx', np.array([5954.08922648, 5772.19680206, 1807.48910221]))\n",
    "model.set_value('n', np.array([0.06, 0.06, 0.06]))\n",
    "model.set_value('ncc', np.array([0.12, 0.12, 0.12]))\n",
    "model.set_value('s0', np.array([0.00730121, 0.00635386, 0.00443]))\n",
    "model.set_value('bw', np.array([2.63175869, 3.49006681, 2.32079768]))\n",
    "model.set_value('tw', np.array([4.38626441, 5.81677835, 3.86799598]))\n",
    "model.set_value('twcc', np.array([13.15879356, 17.45033484, 11.60398769]))\n",
    "model.set_value('alt', np.array([1.0, 1.0, 1.0]))\n",
    "model.set_value('musk', np.array([3600.0, 3600.0, 3600.0]))\n",
    "model.set_value('musx', np.array([0.2, 0.2, 0.2]))\n",
    "model.set_value('cs', np.array([0.62431187, 0.56729497, 0.64251596]))"
   ]
  },
  {
   "attachments": {},
   "cell_type": "markdown",
   "metadata": {},
   "source": [
    "Set dynamic values"
   ]
  },
  {
   "cell_type": "code",
   "execution_count": 14,
   "metadata": {},
   "outputs": [],
   "source": [
    "\n",
    "model.set_value('land_surface_water_source__volume_flow_rate', np.array([1000.0,1000.0,1000.0]))"
   ]
  },
  {
   "cell_type": "code",
   "execution_count": null,
   "metadata": {},
   "outputs": [],
   "source": [
    "model.update_until(3600) # input value is seconds. 1800s = 0.5 hours"
   ]
  },
  {
   "cell_type": "code",
   "execution_count": 16,
   "metadata": {},
   "outputs": [
    {
     "data": {
      "text/plain": [
       "3600.0"
      ]
     },
     "execution_count": 16,
     "metadata": {},
     "output_type": "execute_result"
    }
   ],
   "source": [
    "model.get_current_time()"
   ]
  },
  {
   "cell_type": "code",
   "execution_count": 17,
   "metadata": {},
   "outputs": [
    {
     "data": {
      "text/plain": [
       "10236     974.055908\n",
       "10237    1476.090332\n",
       "10245     987.471130\n",
       "Name: (11, q), dtype: float32"
      ]
     },
     "execution_count": 17,
     "metadata": {},
     "output_type": "execute_result"
    }
   ],
   "source": [
    "\n",
    "model.get_value('channel_exit_water_x-section__volume_flow_rate')"
   ]
  },
  {
   "cell_type": "code",
   "execution_count": 19,
   "metadata": {},
   "outputs": [],
   "source": [
    "model.finalize()"
   ]
  },
  {
   "cell_type": "code",
   "execution_count": null,
   "metadata": {},
   "outputs": [],
   "source": []
  }
 ],
 "metadata": {
  "kernelspec": {
   "display_name": "base",
   "language": "python",
   "name": "python3"
  },
  "language_info": {
   "codemirror_mode": {
    "name": "ipython",
    "version": 3
   },
   "file_extension": ".py",
   "mimetype": "text/x-python",
   "name": "python",
   "nbconvert_exporter": "python",
   "pygments_lexer": "ipython3",
   "version": "3.9.13"
  },
  "orig_nbformat": 4,
  "vscode": {
   "interpreter": {
    "hash": "12887d5693013c73b261c01dd694613bce200432b55f9875791adf3abafc7c64"
   }
  }
 },
 "nbformat": 4,
 "nbformat_minor": 2
}
