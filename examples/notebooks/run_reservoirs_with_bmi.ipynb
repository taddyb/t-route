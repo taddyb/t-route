{
 "cells": [
  {
   "cell_type": "code",
   "execution_count": 1,
   "metadata": {},
   "outputs": [],
   "source": [
    "#from array import array\n",
    "#from troute.network.reservoirs.levelpool.levelpool import MC_Levelpool\n",
    "\n",
    "import sys\n",
    "import numpy as np\n",
    "import xarray as xr\n",
    "\n",
    "sys.path.append(\"src/\")\n",
    "import bmi_reservoirs # This is the BMI t-route that we will be running from the file: bmi_troute.py"
   ]
  },
  {
   "attachments": {},
   "cell_type": "markdown",
   "metadata": {},
   "source": [
    "Initialize reservoir model"
   ]
  },
  {
   "cell_type": "code",
   "execution_count": 2,
   "metadata": {},
   "outputs": [],
   "source": [
    "model = bmi_reservoirs.bmi_reservoir()\n",
    "model.initialize()"
   ]
  },
  {
   "attachments": {},
   "cell_type": "markdown",
   "metadata": {},
   "source": [
    "Set static variables"
   ]
  },
  {
   "cell_type": "code",
   "execution_count": 4,
   "metadata": {},
   "outputs": [
    {
     "data": {
      "text/plain": [
       "'\\ninflow_list = [\\n    91.2719,\\n    91.7394,\\n    91.0523]\\n'"
      ]
     },
     "execution_count": 4,
     "metadata": {},
     "output_type": "execute_result"
    }
   ],
   "source": [
    "model.set_value('lake_surface__elevation', np.array([9.7373]))\n",
    "model.set_value('lake_area', np.array([15.0949]))\n",
    "model.set_value('weir_elevation', np.array([9.626]))\n",
    "model.set_value('weir_coefficient', np.array([0.4]))\n",
    "model.set_value('weir_length', np.array([10.0]))\n",
    "model.set_value('dam_length', np.array([10.0]))\n",
    "model.set_value('orifice_elevation', np.array([7.733]))\n",
    "model.set_value('orifice_coefficient', np.array([0.1]))\n",
    "model.set_value('orifice_area', np.array([1.0]))\n",
    "model.set_value('max_depth', np.array([9.96]))\n",
    "model.set_value('lake_number', np.array([16944276]))\n",
    "model.set_value('initial_fractional_depth', np.array([0.9]))\n",
    "model.set_value('upstream_ids', np.array([int(1)]))\n",
    "model.set_value('res_type', np.array([2]))\n",
    "\n",
    "\"\"\"\n",
    "inflow_list = [\n",
    "    91.2719,\n",
    "    91.7394,\n",
    "    91.0523]\n",
    "\"\"\""
   ]
  },
  {
   "cell_type": "code",
   "execution_count": 5,
   "metadata": {},
   "outputs": [
    {
     "data": {
      "text/plain": [
       "300.0"
      ]
     },
     "execution_count": 5,
     "metadata": {},
     "output_type": "execute_result"
    }
   ],
   "source": [
    "model.get_time_step()"
   ]
  },
  {
   "cell_type": "code",
   "execution_count": 6,
   "metadata": {},
   "outputs": [
    {
     "name": "stdout",
     "output_type": "stream",
     "text": [
      "outflow: [0.]\n",
      "elevation: [9.7373]\n"
     ]
    }
   ],
   "source": [
    "outflow = model.get_value('lake_water~outgoing__volume_flow_rate')\n",
    "elevation = model.get_value('lake_surface__elevation')\n",
    "\n",
    "print(f'outflow: {outflow}')\n",
    "print(f'elevation: {elevation}')"
   ]
  },
  {
   "attachments": {},
   "cell_type": "markdown",
   "metadata": {},
   "source": [
    "Set dynamic variables"
   ]
  },
  {
   "cell_type": "code",
   "execution_count": null,
   "metadata": {},
   "outputs": [],
   "source": [
    "model.set_value('lake_water~incoming__volume_flow_rate', np.array([91.2719]))\n",
    "\n",
    "model.set_value('gage_observations', np.array([0.9]))\n",
    "model.set_value('gage_time', np.array([0.0]))"
   ]
  },
  {
   "attachments": {},
   "cell_type": "markdown",
   "metadata": {},
   "source": [
    "Run model 1 timestep"
   ]
  },
  {
   "cell_type": "code",
   "execution_count": 8,
   "metadata": {},
   "outputs": [],
   "source": [
    "model.update()"
   ]
  },
  {
   "cell_type": "code",
   "execution_count": 9,
   "metadata": {},
   "outputs": [
    {
     "name": "stdout",
     "output_type": "stream",
     "text": [
      "outflow: 0.9\n",
      "elevation: 9.739095687866211\n"
     ]
    }
   ],
   "source": [
    "outflow = model.get_value('lake_water~outgoing__volume_flow_rate')\n",
    "elevation = model.get_value('lake_surface__elevation')\n",
    "\n",
    "print(f'outflow: {outflow}')\n",
    "print(f'elevation: {elevation}')"
   ]
  },
  {
   "cell_type": "code",
   "execution_count": 10,
   "metadata": {},
   "outputs": [
    {
     "data": {
      "text/plain": [
       "300.0"
      ]
     },
     "execution_count": 10,
     "metadata": {},
     "output_type": "execute_result"
    }
   ],
   "source": [
    "model.get_current_time()"
   ]
  },
  {
   "cell_type": "code",
   "execution_count": 22,
   "metadata": {},
   "outputs": [],
   "source": [
    "model.update_until(3600)"
   ]
  },
  {
   "cell_type": "code",
   "execution_count": 23,
   "metadata": {},
   "outputs": [
    {
     "name": "stdout",
     "output_type": "stream",
     "text": [
      "outflow: 0.824203372001648\n",
      "elevation: 9.75887680053711\n"
     ]
    }
   ],
   "source": [
    "outflow = model.get_value('lake_water~outgoing__volume_flow_rate')\n",
    "elevation = model.get_value('lake_surface__elevation')\n",
    "\n",
    "print(f'outflow: {outflow}')\n",
    "print(f'elevation: {elevation}')"
   ]
  },
  {
   "cell_type": "code",
   "execution_count": 24,
   "metadata": {},
   "outputs": [
    {
     "data": {
      "text/plain": [
       "3600.0"
      ]
     },
     "execution_count": 24,
     "metadata": {},
     "output_type": "execute_result"
    }
   ],
   "source": [
    "model.get_current_time()"
   ]
  },
  {
   "cell_type": "code",
   "execution_count": 14,
   "metadata": {},
   "outputs": [],
   "source": [
    "model.finalize()"
   ]
  },
  {
   "attachments": {},
   "cell_type": "markdown",
   "metadata": {},
   "source": [
    "## RFC Reservoir"
   ]
  },
  {
   "cell_type": "code",
   "execution_count": 18,
   "metadata": {},
   "outputs": [],
   "source": [
    "model = bmi_reservoirs.bmi_reservoir()\n",
    "model.initialize()"
   ]
  },
  {
   "cell_type": "code",
   "execution_count": 19,
   "metadata": {},
   "outputs": [],
   "source": [
    "model.set_value('lake_surface__elevation', np.array([189.255814]))\n",
    "model.set_value('lake_area', np.array([3.80643]))\n",
    "model.set_value('weir_elevation', np.array([188.205]))\n",
    "model.set_value('weir_coefficient', np.array([0.4]))\n",
    "model.set_value('weir_length', np.array([10.0]))\n",
    "model.set_value('dam_length', np.array([10.0]))\n",
    "model.set_value('orifice_elevation', np.array([156.159999]))\n",
    "model.set_value('orifice_coefficient', np.array([0.1]))\n",
    "model.set_value('orifice_area', np.array([1.0]))\n",
    "model.set_value('max_depth', np.array([193.860001]))\n",
    "model.set_value('lake_number', np.array([347987]))\n",
    "model.set_value('initial_fractional_depth', np.array([0.9]))\n",
    "model.set_value('upstream_ids', np.array([int(1)]))\n",
    "model.set_value('res_type', np.array([4]))\n"
   ]
  },
  {
   "cell_type": "code",
   "execution_count": 20,
   "metadata": {},
   "outputs": [
    {
     "name": "stdout",
     "output_type": "stream",
     "text": [
      "outflow: [0.]\n",
      "elevation: [189.255814]\n"
     ]
    }
   ],
   "source": [
    "outflow = model.get_value('lake_water~outgoing__volume_flow_rate')\n",
    "elevation = model.get_value('lake_surface__elevation')\n",
    "\n",
    "print(f'outflow: {outflow}')\n",
    "print(f'elevation: {elevation}')"
   ]
  },
  {
   "cell_type": "code",
   "execution_count": 21,
   "metadata": {},
   "outputs": [],
   "source": [
    "rfc_da_df = xr.open_dataset('/home/sean.horvath/projects/data/extended_AnA/rfc_timeseries/2021-10-20_00.60min.KNFC1.RFCTimeSeries.ncdf').to_dataframe()"
   ]
  },
  {
   "cell_type": "code",
   "execution_count": 22,
   "metadata": {},
   "outputs": [],
   "source": [
    "model.set_value('lake_water~incoming__volume_flow_rate', np.array([91.2719]))\n",
    "\n",
    "model.set_value('gage_observations', rfc_da_df['discharges'].to_numpy())\n",
    "model.set_value('gage_time', np.array([0.0]))\n",
    "model.set_value('da_idx', np.array([int(10)]))\n",
    "model.set_value('time_step', np.array([3600]))\n",
    "model.set_value('rfc_forecast_persist_seconds', np.array([950400]))\n",
    "model.set_value('synthetic_flag', rfc_da_df['synthetic_values'].to_numpy())\n"
   ]
  },
  {
   "cell_type": "code",
   "execution_count": 23,
   "metadata": {},
   "outputs": [],
   "source": [
    "model.update()"
   ]
  },
  {
   "cell_type": "code",
   "execution_count": 24,
   "metadata": {},
   "outputs": [
    {
     "name": "stdout",
     "output_type": "stream",
     "text": [
      "outflow: [25.49082565]\n",
      "elevation: 189.2541961669922\n"
     ]
    }
   ],
   "source": [
    "outflow = model.get_value('lake_water~outgoing__volume_flow_rate')\n",
    "elevation = model.get_value('lake_surface__elevation')\n",
    "\n",
    "print(f'outflow: {outflow}')\n",
    "print(f'elevation: {elevation}')"
   ]
  },
  {
   "cell_type": "code",
   "execution_count": null,
   "metadata": {},
   "outputs": [],
   "source": []
  }
 ],
 "metadata": {
  "kernelspec": {
   "display_name": "base",
   "language": "python",
   "name": "python3"
  },
  "language_info": {
   "codemirror_mode": {
    "name": "ipython",
    "version": 3
   },
   "file_extension": ".py",
   "mimetype": "text/x-python",
   "name": "python",
   "nbconvert_exporter": "python",
   "pygments_lexer": "ipython3",
   "version": "3.9.13"
  },
  "orig_nbformat": 4,
  "vscode": {
   "interpreter": {
    "hash": "12887d5693013c73b261c01dd694613bce200432b55f9875791adf3abafc7c64"
   }
  }
 },
 "nbformat": 4,
 "nbformat_minor": 2
}
